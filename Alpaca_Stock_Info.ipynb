{
 "cells": [
  {
   "cell_type": "markdown",
   "metadata": {},
   "source": [
    "# Alpaca Stocks for Project 2 - Chip and Dip? The Chip Factor? Chip Gaines (pun)?"
   ]
  },
  {
   "cell_type": "code",
   "execution_count": 1,
   "metadata": {},
   "outputs": [],
   "source": [
    "# Initial imports\r\n",
    "import os\r\n",
    "import requests\r\n",
    "import pandas as pd\r\n",
    "from dotenv import load_dotenv\r\n",
    "import alpaca_trade_api as tradeapi\r\n",
    "import csv\r\n",
    "import matplotlib.pyplot as plt\r\n",
    "\r\n",
    "%matplotlib inline"
   ]
  },
  {
   "cell_type": "code",
   "execution_count": 2,
   "metadata": {},
   "outputs": [
    {
     "data": {
      "text/plain": [
       "True"
      ]
     },
     "execution_count": 2,
     "metadata": {},
     "output_type": "execute_result"
    }
   ],
   "source": [
    "# Load .env environment variables\r\n",
    "project_folder = os.path.expanduser('~/Desktop/project2')  # adjust yours as appropriate\r\n",
    "load_dotenv((os.path.join(project_folder, 'SAMPLE.env')))"
   ]
  },
  {
   "cell_type": "code",
   "execution_count": 3,
   "metadata": {},
   "outputs": [],
   "source": [
    "# Set Alpaca API key and secret\r\n",
    "alpaca_api_key = os.getenv(\"alpaca_api_key\")\r\n",
    "alpaca_secret_key = os.getenv(\"alpaca_secret_key\")"
   ]
  },
  {
   "cell_type": "code",
   "execution_count": 4,
   "metadata": {},
   "outputs": [
    {
     "name": "stdout",
     "output_type": "stream",
     "text": [
      "Alpaca Key type: <class 'NoneType'>\n",
      "Alpaca Secret Key type: <class 'NoneType'>\n"
     ]
    }
   ],
   "source": [
    "# Verify that Alpaca key and secret were correctly loaded\r\n",
    "print(f\"Alpaca Key type: {type(alpaca_api_key)}\")\r\n",
    "print(f\"Alpaca Secret Key type: {type(alpaca_secret_key)}\")"
   ]
  },
  {
   "cell_type": "code",
   "execution_count": 5,
   "metadata": {},
   "outputs": [
    {
     "ename": "ValueError",
     "evalue": "('Key ID must be given to access Alpaca trade API', ' (env: APCA_API_KEY_ID)')",
     "output_type": "error",
     "traceback": [
      "\u001b[0;31m---------------------------------------------------------------------------\u001b[0m",
      "\u001b[0;31mValueError\u001b[0m                                Traceback (most recent call last)",
      "\u001b[0;32m<ipython-input-5-6a2dd0a7bfe8>\u001b[0m in \u001b[0;36m<module>\u001b[0;34m\u001b[0m\n\u001b[1;32m      3\u001b[0m     \u001b[0malpaca_api_key\u001b[0m\u001b[0;34m,\u001b[0m\u001b[0;34m\u001b[0m\u001b[0;34m\u001b[0m\u001b[0m\n\u001b[1;32m      4\u001b[0m     \u001b[0malpaca_secret_key\u001b[0m\u001b[0;34m,\u001b[0m\u001b[0;34m\u001b[0m\u001b[0;34m\u001b[0m\u001b[0m\n\u001b[0;32m----> 5\u001b[0;31m     api_version=\"v2\")\n\u001b[0m",
      "\u001b[0;32m~/opt/anaconda3/envs/dev/lib/python3.7/site-packages/alpaca_trade_api/rest.py\u001b[0m in \u001b[0;36m__init__\u001b[0;34m(self, key_id, secret_key, base_url, api_version, oauth, raw_data)\u001b[0m\n\u001b[1;32m     92\u001b[0m         \"\"\"\n\u001b[1;32m     93\u001b[0m         self._key_id, self._secret_key, self._oauth = get_credentials(\n\u001b[0;32m---> 94\u001b[0;31m             key_id, secret_key, oauth)\n\u001b[0m\u001b[1;32m     95\u001b[0m         \u001b[0mself\u001b[0m\u001b[0;34m.\u001b[0m\u001b[0m_base_url\u001b[0m\u001b[0;34m:\u001b[0m \u001b[0mURL\u001b[0m \u001b[0;34m=\u001b[0m \u001b[0mURL\u001b[0m\u001b[0;34m(\u001b[0m\u001b[0mbase_url\u001b[0m \u001b[0;32mor\u001b[0m \u001b[0mget_base_url\u001b[0m\u001b[0;34m(\u001b[0m\u001b[0;34m)\u001b[0m\u001b[0;34m)\u001b[0m\u001b[0;34m\u001b[0m\u001b[0;34m\u001b[0m\u001b[0m\n\u001b[1;32m     96\u001b[0m         \u001b[0mself\u001b[0m\u001b[0;34m.\u001b[0m\u001b[0m_api_version\u001b[0m \u001b[0;34m=\u001b[0m \u001b[0mget_api_version\u001b[0m\u001b[0;34m(\u001b[0m\u001b[0mapi_version\u001b[0m\u001b[0;34m)\u001b[0m\u001b[0;34m\u001b[0m\u001b[0;34m\u001b[0m\u001b[0m\n",
      "\u001b[0;32m~/opt/anaconda3/envs/dev/lib/python3.7/site-packages/alpaca_trade_api/common.py\u001b[0m in \u001b[0;36mget_credentials\u001b[0;34m(key_id, secret_key, oauth)\u001b[0m\n\u001b[1;32m     81\u001b[0m     \u001b[0;32mif\u001b[0m \u001b[0mkey_id\u001b[0m \u001b[0;32mis\u001b[0m \u001b[0;32mNone\u001b[0m \u001b[0;32mand\u001b[0m \u001b[0moauth\u001b[0m \u001b[0;32mis\u001b[0m \u001b[0;32mNone\u001b[0m\u001b[0;34m:\u001b[0m\u001b[0;34m\u001b[0m\u001b[0;34m\u001b[0m\u001b[0m\n\u001b[1;32m     82\u001b[0m         raise ValueError('Key ID must be given to access Alpaca trade API',\n\u001b[0;32m---> 83\u001b[0;31m                          ' (env: APCA_API_KEY_ID)')\n\u001b[0m\u001b[1;32m     84\u001b[0m \u001b[0;34m\u001b[0m\u001b[0m\n\u001b[1;32m     85\u001b[0m     \u001b[0msecret_key\u001b[0m \u001b[0;34m=\u001b[0m \u001b[0msecret_key\u001b[0m \u001b[0;32mor\u001b[0m \u001b[0mos\u001b[0m\u001b[0;34m.\u001b[0m\u001b[0menviron\u001b[0m\u001b[0;34m.\u001b[0m\u001b[0mget\u001b[0m\u001b[0;34m(\u001b[0m\u001b[0;34m'APCA_API_SECRET_KEY'\u001b[0m\u001b[0;34m)\u001b[0m\u001b[0;34m\u001b[0m\u001b[0;34m\u001b[0m\u001b[0m\n",
      "\u001b[0;31mValueError\u001b[0m: ('Key ID must be given to access Alpaca trade API', ' (env: APCA_API_KEY_ID)')"
     ]
    }
   ],
   "source": [
    "# Create the Alpaca API object\r\n",
    "alpaca = tradeapi.REST(\r\n",
    "    alpaca_api_key,\r\n",
    "    alpaca_secret_key,\r\n",
    "    api_version=\"v2\")"
   ]
  },
  {
   "cell_type": "code",
   "execution_count": null,
   "metadata": {},
   "outputs": [],
   "source": [
    "# Format the current date as ISO format\r\n",
    "today = pd.Timestamp(\"2021-09-28\", tz=\"America/New_York\").isoformat()"
   ]
  },
  {
   "cell_type": "code",
   "execution_count": null,
   "metadata": {},
   "outputs": [],
   "source": [
    "# Set the tickers for the stocks you have chosen\r\n",
    "# We are selecting the following 15 (note to group that 14 currently work, but added in VOO)\r\n",
    "tickers = [\"TSM\", \"QCOM\", \"VALE\", \"AMD\", \"BHP\", \"RIO\", \"FCX\", \"INTC\", \"MSFT\", \"DDD\", \"NVDA\", \"TSLA\", \"AMAT\", \"F\", \"VOO\"]"
   ]
  },
  {
   "cell_type": "code",
   "execution_count": null,
   "metadata": {},
   "outputs": [],
   "source": [
    "# Set timeframe to one day ('1D') for the Alpaca API\r\n",
    "timeframe = \"1D\""
   ]
  },
  {
   "cell_type": "code",
   "execution_count": null,
   "metadata": {},
   "outputs": [],
   "source": [
    "# Get current closing prices for above stocks\r\n",
    "df_portfolio = alpaca.get_barset(\r\n",
    "    tickers,\r\n",
    "    timeframe,\r\n",
    "    start = today,\r\n",
    "    end = today,\r\n",
    "    limit = 500\r\n",
    ").df\r\n",
    "\r\n",
    "# Display sample data\r\n",
    "# Auto formats in alphabetical order\r\n",
    "df_portfolio"
   ]
  },
  {
   "cell_type": "code",
   "execution_count": null,
   "metadata": {},
   "outputs": [],
   "source": [
    "# The farthest Alpaca will go back is 4 months for one pull\r\n",
    "# Format start and end dates as ISO format for one year period\r\n",
    "start = pd.Timestamp(\"2021-05-28\", tz=\"America/New_York\").isoformat()\r\n",
    "end = pd.Timestamp(\"2021-09-28\", tz=\"America/New_York\").isoformat()"
   ]
  },
  {
   "cell_type": "code",
   "execution_count": null,
   "metadata": {},
   "outputs": [],
   "source": [
    "# Get closing prices for chosen stocks from start to end date of choice and set limit to 1000\r\n",
    "df_portfolio_months = alpaca.get_barset(\r\n",
    "    tickers,\r\n",
    "    timeframe,\r\n",
    "    start = start,\r\n",
    "    end = end,\r\n",
    "    limit = 1000\r\n",
    ").df\r\n",
    "\r\n",
    "# Display sample data\r\n",
    "df_portfolio_months.head(5)"
   ]
  },
  {
   "cell_type": "code",
   "execution_count": null,
   "metadata": {},
   "outputs": [],
   "source": [
    "# Clean the data and drop all columns except for closing\r\n",
    "df_portfolio_months_clean = df_portfolio_months.drop(['open', 'low', 'high'], axis=1, level=1)\r\n",
    "\r\n",
    "# Display sample data\r\n",
    "df_portfolio_months_clean.head(5)\r\n"
   ]
  },
  {
   "cell_type": "code",
   "execution_count": null,
   "metadata": {},
   "outputs": [],
   "source": [
    "# The farthest Alpaca will go back is 4 months for one pull, so we repeat process below\r\n",
    "# Format start and end dates as ISO format for four month period\r\n",
    "# Use the start date above as the end date below\r\n",
    "\r\n",
    "start_2 = pd.Timestamp(\"2021-01-01\", tz=\"America/New_York\").isoformat()\r\n",
    "end_2 = pd.Timestamp(\"2021-05-27\", tz=\"America/New_York\").isoformat()\r\n",
    "\r\n",
    "df_portfolio_months_2 = alpaca.get_barset(\r\n",
    "    tickers,\r\n",
    "    timeframe,\r\n",
    "    start = start_2,\r\n",
    "    end = end_2,\r\n",
    "    limit = 1000\r\n",
    ").df\r\n",
    "\r\n",
    "# Clean the data and drop all columns except for closing\r\n",
    "df_portfolio_months_2_clean = df_portfolio_months_2.drop(['open', 'low', 'high'], axis=1, level=1)\r\n",
    "\r\n",
    "# Display sample data\r\n",
    "df_portfolio_months_2_clean.head(5)"
   ]
  },
  {
   "cell_type": "code",
   "execution_count": null,
   "metadata": {},
   "outputs": [],
   "source": [
    "# The farthest Alpaca will go back is 4 months for one pull, so we repeat process below\r\n",
    "# Format start and end dates as ISO format for four month period\r\n",
    "# Use the start date above as the end date below\r\n",
    "\r\n",
    "start_3 = pd.Timestamp(\"2020-09-28\", tz=\"America/New_York\").isoformat()\r\n",
    "end_3 = pd.Timestamp(\"2021-01-01\", tz=\"America/New_York\").isoformat()\r\n",
    "\r\n",
    "df_portfolio_months_3 = alpaca.get_barset(\r\n",
    "    tickers,\r\n",
    "    timeframe,\r\n",
    "    start = start_3,\r\n",
    "    end = end_3,\r\n",
    "    limit = 1000\r\n",
    ").df\r\n",
    "\r\n",
    "# Clean the data and drop all columns except for closing\r\n",
    "df_portfolio_months_3_clean = df_portfolio_months_3.drop(['open', 'low', 'high'], axis=1, level=1)\r\n",
    "\r\n",
    "# Display sample data\r\n",
    "df_portfolio_months_3_clean.head(5)"
   ]
  },
  {
   "cell_type": "code",
   "execution_count": null,
   "metadata": {},
   "outputs": [],
   "source": [
    "#Combine all the cleaned data into one table by using concat\r\n",
    "merged_portfolio = pd.concat([df_portfolio_months_3_clean, df_portfolio_months_2_clean, df_portfolio_months_clean])\r\n",
    "\r\n",
    "# Display the head and tail of the newly merged portfolio\r\n",
    "merged_portfolio.head()"
   ]
  },
  {
   "cell_type": "code",
   "execution_count": null,
   "metadata": {},
   "outputs": [],
   "source": [
    "# For some reason I am only ever able to show head and tails of a table in two separate code blocks\r\n",
    "# So here is the display of the tail of the newly merged portfolio\r\n",
    "merged_portfolio.tail()"
   ]
  },
  {
   "cell_type": "code",
   "execution_count": null,
   "metadata": {},
   "outputs": [],
   "source": [
    "# Send to CSV file\r\n",
    "\r\n",
    "merged_portfolio.to_csv('cleaned_stock_data.csv')"
   ]
  },
  {
   "cell_type": "code",
   "execution_count": null,
   "metadata": {},
   "outputs": [],
   "source": [
    "# Graph your stocks closing prices over the course of the last year by using the data you just merged into one portfolio\r\n",
    "# We are graphing the data to get a visualization over the stock closing price performance over the last year\r\n",
    "\r\n",
    "# First remove the volume column from the portfolio to just plot the closing prices\r\n",
    "merged_portfolio_close_dates = merged_portfolio.drop(['volume'], axis=1, level=1)\r\n",
    "\r\n",
    "merged_portfolio_close_dates.plot()\r\n",
    "plt.title('Full Calendar Year of Closing Prices for Chosen Stocks')\r\n",
    "plt.ylabel('Closing Prices')\r\n",
    "plt.xlabel('Date')\r\n",
    "plt.legend(loc=\"lower right\", bbox_to_anchor=(1.4, -0.19), ncol=1)"
   ]
  },
  {
   "cell_type": "code",
   "execution_count": null,
   "metadata": {},
   "outputs": [],
   "source": [
    "# Graph your stocks daily volume over the course of the last year by using the data you just merged into one portfolio\r\n",
    "# We are graphing the data to get a visualization over the changes in volume over the last year\r\n",
    "\r\n",
    "# First remove the close column from the portfolio to just plot the volume\r\n",
    "merged_portfolio_volumes = merged_portfolio.drop(['close'], axis=1, level=1)\r\n",
    "\r\n",
    "merged_portfolio_volumes.plot()\r\n",
    "plt.title('Full Calendar Year of Volume for Chosen Stocks')\r\n",
    "plt.ylabel('Volume')\r\n",
    "plt.xlabel('Date')\r\n",
    "plt.legend(loc=\"lower right\", bbox_to_anchor=(1.4, -0.19), ncol=1)"
   ]
  },
  {
   "cell_type": "code",
   "execution_count": null,
   "metadata": {},
   "outputs": [],
   "source": [
    "# Create a Lagged Volume column that shifts the volume of each stock back by one day\r\n",
    "\r\n",
    "# Since there are multiple columns with the name volume, we must create a loop \r\n",
    "for widget in merged_portfolio.columns.levels[0]:\r\n",
    "    merged_portfolio.loc[:,(widget, 'lagged volume')] = merged_portfolio[(widget, 'volume')].shift(1)\r\n",
    "\r\n",
    "# Then we sort the columns to show within each stock\r\n",
    "merged_portfolio = merged_portfolio.sort_index(axis=1, level=0)\r\n",
    "\r\n",
    "#Drop NA values\r\n",
    "merged_portfolio.dropna(inplace=True)\r\n",
    "\r\n",
    "#Display portfolio \r\n",
    "merged_portfolio.head(3)"
   ]
  },
  {
   "cell_type": "code",
   "execution_count": null,
   "metadata": {},
   "outputs": [],
   "source": [
    "# Create a Daily Stock Return column that will calculate the daily percent change of the closing stock prices\r\n",
    "\r\n",
    "# Since there are multiple columns with the name close, we must create a loop \r\n",
    "\r\n",
    "for stock in merged_portfolio.columns.levels[0]:\r\n",
    "    merged_portfolio.loc[:,(stock, 'daily return')] = merged_portfolio[(stock, 'close')].pct_change()\r\n",
    "\r\n",
    "# Then we sort the columns to show within each stock\r\n",
    "merged_portfolio = merged_portfolio.sort_index(axis=1, level=0)\r\n",
    "\r\n",
    "#Display portfolio \r\n",
    "merged_portfolio.tail(3)"
   ]
  },
  {
   "cell_type": "code",
   "execution_count": null,
   "metadata": {},
   "outputs": [],
   "source": [
    "# Create a Stock Volatility column that will calculate the standard deviation of the closing stock prices\r\n",
    "\r\n",
    "# Since there are multiple columns with the name close, we must create a loop \r\n",
    "\r\n",
    "for volatility in merged_portfolio.columns.levels[0]:\r\n",
    "    merged_portfolio.loc[:,(volatility, 'stock volatility')] = merged_portfolio[(volatility, 'close')].pct_change().rolling(window=200).std()\r\n",
    "\r\n",
    "# Then we sort the columns to show within each stock\r\n",
    "merged_portfolio = merged_portfolio.sort_index(axis=1, level=0)\r\n",
    "\r\n",
    "#Display portfolio \r\n",
    "merged_portfolio.tail(3)"
   ]
  },
  {
   "cell_type": "code",
   "execution_count": null,
   "metadata": {},
   "outputs": [],
   "source": [
    "# Graph your stock volatility over the course of the last year by using the data you calculated above\r\n",
    "# We are graphing the data to get a visualization over the stock volatility over the last year\r\n",
    "\r\n",
    "# First remove the close, volume, lagged volume, and daily return columns from the portfolio to just plot the volume\r\n",
    "\r\n",
    "merged_portfolio_stock_volatility = merged_portfolio.drop(['close', 'volume', 'lagged volume', 'daily return'], axis=1, level=1)\r\n",
    "\r\n",
    "merged_portfolio_stock_volatility.plot()\r\n",
    "plt.title('Stock Volatility for Chosen Stocks')\r\n",
    "plt.ylabel('Volatility')\r\n",
    "plt.xlabel('Date')\r\n",
    "plt.legend(loc=\"lower right\", bbox_to_anchor=(1.53, -0.19), ncol=1)"
   ]
  },
  {
   "cell_type": "code",
   "execution_count": null,
   "metadata": {},
   "outputs": [],
   "source": [
    "# Creating a correlation table of the daily stock return, lagged volume, and stock volatility\r\n",
    "\r\n",
    "merged_portfolio_corr = merged_portfolio.drop(['close', 'volume'], axis=1, level=1)\r\n",
    "\r\n",
    "merged_portfolio_corr.corr()"
   ]
  },
  {
   "cell_type": "code",
   "execution_count": null,
   "metadata": {},
   "outputs": [],
   "source": [
    "# Original idea to calculate correlation \r\n",
    "\r\n",
    "# merged_portfolio_TSM_corr = merged_portfolio.drop([\"QCOM\", \"VALE\", \"AMD\", \"BHP\", \"RIO\", \"FCX\", \"INTC\", \"MSFT\", \"DDD\", \"NVDA\", \"TSLA\", \"AMAT\", \"F\", \"VOO\"], axis=1, level=0)\r\n",
    "\r\n",
    "# merged_portfolio_TSM_corr.corr()"
   ]
  },
  {
   "cell_type": "code",
   "execution_count": null,
   "metadata": {},
   "outputs": [],
   "source": [
    "# Below we start running Bollinger Bands to determine return percentage"
   ]
  },
  {
   "cell_type": "code",
   "execution_count": null,
   "metadata": {},
   "outputs": [],
   "source": [
    "merged_portfolio_daily_returns = merged_portfolio.drop(['close', 'volume', 'lagged volume', 'stock volatility'], axis=1, level=1)\r\n",
    "\r\n",
    "merged_portfolio_daily_returns.dropna(inplace=True)\r\n",
    "\r\n",
    "merged_portfolio_daily_returns.head(1)"
   ]
  },
  {
   "cell_type": "code",
   "execution_count": null,
   "metadata": {},
   "outputs": [],
   "source": [
    "# Original strategy to get the covariance of each stock in portfolio\r\n",
    "\r\n",
    "# Below calculates the covariance of TSM to the VOO\r\n",
    "\r\n",
    "merged_portfolio_TSM_cov = merged_portfolio_daily_returns['TSM']['daily return'].cov(merged_portfolio_daily_returns['VOO']['daily return'])\r\n",
    "\r\n",
    "merged_portfolio_TSM_cov\r\n",
    "\r\n"
   ]
  },
  {
   "cell_type": "code",
   "execution_count": null,
   "metadata": {},
   "outputs": [],
   "source": [
    "# Creating a loop to get all the stock covariances to the VOO at once in the order below\r\n",
    "\r\n",
    "stock_ticker_list = [\"TSM\", \"QCOM\", \"VALE\", \"AMD\", \"BHP\", \"RIO\", \"FCX\", \"INTC\", \"MSFT\", \"DDD\", \"NVDA\", \"TSLA\", \"AMAT\", \"F\"]\r\n",
    "\r\n",
    "for stock in stock_ticker_list:\r\n",
    "    stock_covariance_list = []\r\n",
    "    stockcov = merged_portfolio_daily_returns[stock]['daily return'].cov(merged_portfolio_daily_returns['VOO']['daily return'])\r\n",
    "    stock_covariance_list+=[stockcov]\r\n",
    "    print(stock_covariance_list)\r\n",
    "   "
   ]
  },
  {
   "cell_type": "code",
   "execution_count": null,
   "metadata": {},
   "outputs": [],
   "source": [
    "# Create the variance calculation of all the daily returns vs. VOO\r\n",
    "\r\n",
    "VOO_variance = merged_portfolio_daily_returns['VOO']['daily return'].var()\r\n",
    "\r\n",
    "print(VOO_variance)\r\n"
   ]
  },
  {
   "cell_type": "code",
   "execution_count": null,
   "metadata": {},
   "outputs": [],
   "source": [
    "# trying to create a loop that divided the covariance of each stock by the variance of VOO, both of which have been calculated above already\r\n",
    "\r\n",
    "for covariance in stock_covariance_list:\r\n",
    "    stock_beta_list = []\r\n",
    "    stockbetcovarlist / VOO_variance\r\n",
    "    "
   ]
  }
 ],
 "metadata": {
  "interpreter": {
   "hash": "34c1085476779c4318d7a779ef6e9f651b429bd8bbf389bd944fd591df335044"
  },
  "kernelspec": {
   "display_name": "Python 3",
   "language": "python",
   "name": "python3"
  },
  "language_info": {
   "codemirror_mode": {
    "name": "ipython",
    "version": 3
   },
   "file_extension": ".py",
   "mimetype": "text/x-python",
   "name": "python",
   "nbconvert_exporter": "python",
   "pygments_lexer": "ipython3",
   "version": "3.7.10"
  }
 },
 "nbformat": 4,
 "nbformat_minor": 4
}
